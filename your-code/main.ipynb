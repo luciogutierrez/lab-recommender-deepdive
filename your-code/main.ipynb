{
 "cells": [
  {
   "cell_type": "markdown",
   "source": [
    "# Recommender Systems Deep-Dive Lab\n",
    "\n",
    "There are many different approaches that we can take when creating recommender systems. In the Intro to Recommender Systems lesson and lab, we put together a user similarity based recommender that first calculated the similarities between users and then leveraged a rank-based item recommender within each group of similar customers. In other words, for a given user, our recommender found the top 5 customers who were the most similar to them, aggregated and ranked the purchases of those 5 customers, and then recommended the top 5 most popular products among that group of similar users to the customer.\n",
    "\n",
    "In this lab, we are going to start out with the same data set, but we are going to dive deeper into the analysis of customers and products and look at an alternative way to generate recommendations.\n",
    "\n",
    "We will begin by importing everything we will need for this lab (libraries, data set, etc.)."
   ],
   "metadata": {}
  },
  {
   "cell_type": "code",
   "execution_count": 1,
   "source": [
    "import pandas as pd\r\n",
    "from scipy.spatial.distance import pdist, squareform"
   ],
   "outputs": [],
   "metadata": {}
  },
  {
   "cell_type": "code",
   "execution_count": 4,
   "source": [
    "data = pd.read_csv('../data/customer_product_sales.csv')\r\n",
    "data.head()"
   ],
   "outputs": [
    {
     "output_type": "execute_result",
     "data": {
      "text/plain": [
       "   CustomerID FirstName   LastName  SalesID  ProductID           ProductName  \\\n",
       "0       61288      Rosa   Andersen   134196        229  Bread - Hot Dog Buns   \n",
       "1       77352     Myron     Murray  6167892        229  Bread - Hot Dog Buns   \n",
       "2       40094     Susan  Stevenson  5970885        229  Bread - Hot Dog Buns   \n",
       "3       23548    Tricia    Vincent  6426954        229  Bread - Hot Dog Buns   \n",
       "4       78981     Scott      Burch   819094        229  Bread - Hot Dog Buns   \n",
       "\n",
       "   Quantity  \n",
       "0        16  \n",
       "1        20  \n",
       "2        11  \n",
       "3         6  \n",
       "4        20  "
      ],
      "text/html": [
       "<div>\n",
       "<style scoped>\n",
       "    .dataframe tbody tr th:only-of-type {\n",
       "        vertical-align: middle;\n",
       "    }\n",
       "\n",
       "    .dataframe tbody tr th {\n",
       "        vertical-align: top;\n",
       "    }\n",
       "\n",
       "    .dataframe thead th {\n",
       "        text-align: right;\n",
       "    }\n",
       "</style>\n",
       "<table border=\"1\" class=\"dataframe\">\n",
       "  <thead>\n",
       "    <tr style=\"text-align: right;\">\n",
       "      <th></th>\n",
       "      <th>CustomerID</th>\n",
       "      <th>FirstName</th>\n",
       "      <th>LastName</th>\n",
       "      <th>SalesID</th>\n",
       "      <th>ProductID</th>\n",
       "      <th>ProductName</th>\n",
       "      <th>Quantity</th>\n",
       "    </tr>\n",
       "  </thead>\n",
       "  <tbody>\n",
       "    <tr>\n",
       "      <th>0</th>\n",
       "      <td>61288</td>\n",
       "      <td>Rosa</td>\n",
       "      <td>Andersen</td>\n",
       "      <td>134196</td>\n",
       "      <td>229</td>\n",
       "      <td>Bread - Hot Dog Buns</td>\n",
       "      <td>16</td>\n",
       "    </tr>\n",
       "    <tr>\n",
       "      <th>1</th>\n",
       "      <td>77352</td>\n",
       "      <td>Myron</td>\n",
       "      <td>Murray</td>\n",
       "      <td>6167892</td>\n",
       "      <td>229</td>\n",
       "      <td>Bread - Hot Dog Buns</td>\n",
       "      <td>20</td>\n",
       "    </tr>\n",
       "    <tr>\n",
       "      <th>2</th>\n",
       "      <td>40094</td>\n",
       "      <td>Susan</td>\n",
       "      <td>Stevenson</td>\n",
       "      <td>5970885</td>\n",
       "      <td>229</td>\n",
       "      <td>Bread - Hot Dog Buns</td>\n",
       "      <td>11</td>\n",
       "    </tr>\n",
       "    <tr>\n",
       "      <th>3</th>\n",
       "      <td>23548</td>\n",
       "      <td>Tricia</td>\n",
       "      <td>Vincent</td>\n",
       "      <td>6426954</td>\n",
       "      <td>229</td>\n",
       "      <td>Bread - Hot Dog Buns</td>\n",
       "      <td>6</td>\n",
       "    </tr>\n",
       "    <tr>\n",
       "      <th>4</th>\n",
       "      <td>78981</td>\n",
       "      <td>Scott</td>\n",
       "      <td>Burch</td>\n",
       "      <td>819094</td>\n",
       "      <td>229</td>\n",
       "      <td>Bread - Hot Dog Buns</td>\n",
       "      <td>20</td>\n",
       "    </tr>\n",
       "  </tbody>\n",
       "</table>\n",
       "</div>"
      ]
     },
     "metadata": {},
     "execution_count": 4
    }
   ],
   "metadata": {}
  },
  {
   "cell_type": "markdown",
   "source": [
    "## Data Preparation\n",
    "\n",
    "We will then put together the foundational transformations of the data that we will need to eventually produce recommendations. The steps in this section should be familiar to you, as you would have had to tranform the data in this manner to create the user similarity based recommender in the Intro to Recommender Systems lab.\n",
    "\n",
    "First, we will create a data frame that contains the total quantity of each product purchased by each customer."
   ],
   "metadata": {}
  },
  {
   "cell_type": "code",
   "execution_count": null,
   "source": [
    "customer_products = data.groupby(['CustomerID', 'ProductName']).agg({'Quantity':'sum'}).reset_index()\r\n",
    "customer_products.head()"
   ],
   "outputs": [],
   "metadata": {}
  },
  {
   "cell_type": "markdown",
   "source": [
    "Then, we want to create a matrix that has customers on one axis, products on the other, and the quantity purchased as the values. There will be many instances where a customer has not purchased a product, which by default will be expressed with a null value. We will want to replace those nulls with zeros by appending `.fillna(0)` to our pivot table."
   ],
   "metadata": {}
  },
  {
   "cell_type": "code",
   "execution_count": null,
   "source": [
    "prod_cust_pivot = customer_products.pivot_table(values='Quantity', \r\n",
    "                                                columns='CustomerID', \r\n",
    "                                                index='ProductName', \r\n",
    "                                                aggfunc='sum').fillna(0)\r\n",
    "\r\n",
    "prod_cust_pivot.head()"
   ],
   "outputs": [],
   "metadata": {}
  },
  {
   "cell_type": "markdown",
   "source": [
    "In the pivot table we created, the rows represent the products and the columns represent the customers. Depending on what need to do with the matrix, we may instead need to transpose it so that the rows represent customers and the columns to represent products. We can do this easily by appending `.T` to our product customer matrix."
   ],
   "metadata": {}
  },
  {
   "cell_type": "code",
   "execution_count": null,
   "source": [
    "cust_prod_pivot = prod_cust_pivot.T\r\n",
    "cust_prod_pivot.head()"
   ],
   "outputs": [],
   "metadata": {}
  },
  {
   "cell_type": "markdown",
   "source": [
    "Another thing we may want to do is normalize the values across rows or columns of the matrix so that all the values are between 0 and 1. Doing this for customers would help us identify customers that may have purcahsed a similar mix of products even though some of those customers may have purchased large quantities while other may have purchased smaller quantities. Doing this for products would help us better identify products that have been purchased by similar groups of customers regardless of the quantities purchased.\n",
    "\n",
    "We can normalize across rows for each matrix as follows."
   ],
   "metadata": {}
  },
  {
   "cell_type": "code",
   "execution_count": null,
   "source": [
    "prod_cust_pivot = prod_cust_pivot.div(prod_cust_pivot.sum(axis=1), axis=0)\r\n",
    "cust_prod_pivot = cust_prod_pivot.div(cust_prod_pivot.sum(axis=1), axis=0)"
   ],
   "outputs": [],
   "metadata": {}
  },
  {
   "cell_type": "markdown",
   "source": [
    "## User Similarity Based Recommendations"
   ],
   "metadata": {}
  },
  {
   "cell_type": "markdown",
   "source": [
    "The next step in creating recommendations is calculating similarities. For our user similarity based recommender, we calculated them between customers."
   ],
   "metadata": {}
  },
  {
   "cell_type": "code",
   "execution_count": null,
   "source": [
    "cust_dist = pd.DataFrame(1/(1 + squareform(pdist(cust_prod_pivot, 'euclidean'))),\r\n",
    "                         index=cust_prod_pivot.index, columns=cust_prod_pivot.index)\r\n",
    "\r\n",
    "cust_dist.head()"
   ],
   "outputs": [],
   "metadata": {}
  },
  {
   "cell_type": "markdown",
   "source": [
    "Once we had our similarity matrix, then we could produce recommendations for each user and package all the recommendations into a data frame."
   ],
   "metadata": {}
  },
  {
   "cell_type": "code",
   "execution_count": null,
   "source": [
    "recommendations = {}\r\n",
    "customers = list(customer_products['CustomerID'].unique())\r\n",
    "\r\n",
    "for customer in customers:\r\n",
    "    similar_cust = list(cust_dist[customer].sort_values(ascending=False)[1:].head().index)\r\n",
    "    sim_cust_prod = customer_products[customer_products['CustomerID'].isin(similar_cust)]\r\n",
    "    grouped = sim_cust_prod.groupby('ProductName').agg({'Quantity':'sum'})\r\n",
    "    ranked_products = grouped.sort_values('Quantity', ascending=False).reset_index()\r\n",
    "    \r\n",
    "    merged = pd.merge(ranked_products, pd.DataFrame(cust_prod_pivot.T[customer]), on='ProductName')\r\n",
    "    merged.columns = ['ProductName', 'Quantity', 'Purchased']\r\n",
    "    recs = merged[merged['Purchased']==0].head()\r\n",
    "    recommendations[customer] = list(recs['ProductName'])\r\n",
    "\r\n",
    "user_recs = pd.DataFrame.from_dict(recommendations, orient='index').reset_index()\r\n",
    "user_recs.columns = ['CustomerID', 'Rec1', 'Rec2', 'Rec3', 'Rec4', 'Rec5']\r\n",
    "user_recs.head()"
   ],
   "outputs": [],
   "metadata": {
    "scrolled": false
   }
  },
  {
   "cell_type": "markdown",
   "source": [
    "## Deeper Dive Into Our User Similarity Recommendations\n",
    "\n",
    "Let's deconstruct what we've done and take a deeper dive into how we put this together. Doing this will equip us with the knowledge to be able to put together an item-based similarity recommender in the next section. \n",
    "\n",
    "After creating an empty dictionary to store our recommendations and getting a unique list of customer IDs to iterate through, we are first identifying the top 5 similar customers to the customer we are trying to generate recommendations for. Let's plug in customer ID 33 and see what results we get."
   ],
   "metadata": {}
  },
  {
   "cell_type": "code",
   "execution_count": null,
   "source": [
    "similar_cust = list(cust_dist[33].sort_values(ascending=False)[1:].head().index)\r\n",
    "similar_cust"
   ],
   "outputs": [],
   "metadata": {}
  },
  {
   "cell_type": "markdown",
   "source": [
    "What we get is a list containing the 5 customer IDs of the customers whose purchase behavior is most similar to customer 33. We then go back to our customer_products data frame and select just the purchases where the customer ID is in our list of similar customers. We aggregate on product name, summing up the total quantity purchased of each product by all 5 similar customers, and then we rank them by sorting in descending order by the total quantity."
   ],
   "metadata": {}
  },
  {
   "cell_type": "code",
   "execution_count": null,
   "source": [
    "sim_cust_prod = customer_products[customer_products['CustomerID'].isin(similar_cust)]\r\n",
    "grouped = sim_cust_prod.groupby('ProductName').agg({'Quantity':'sum'})\r\n",
    "ranked_products = grouped.sort_values('Quantity', ascending=False).reset_index()\r\n",
    "ranked_products.head()"
   ],
   "outputs": [],
   "metadata": {}
  },
  {
   "cell_type": "markdown",
   "source": [
    "We now have a ranked list of products that similar customers have purchased, but we haven't taken into consideration yet whether our target customer already purchases any of those items. We want to recommend them items that they might like but haven't purchased before. So we will merge the list of ranked products with our target customer's purchase list and keep only the records for items that the customer has not purchased. These will be the items that we recommend to the customer."
   ],
   "metadata": {}
  },
  {
   "cell_type": "code",
   "execution_count": null,
   "source": [
    "merged = pd.merge(ranked_products, pd.DataFrame(cust_prod_pivot.T[33]), on='ProductName')\r\n",
    "merged.columns = ['ProductName', 'Quantity', 'Purchased']\r\n",
    "recs = merged[merged['Purchased']==0].head()\r\n",
    "recs"
   ],
   "outputs": [],
   "metadata": {}
  },
  {
   "cell_type": "markdown",
   "source": [
    "## Item Similarity Based Recommendations\n",
    "\n",
    "In this section, you will create an item similarity based recommender system in a step-by-step fashion. Whereas our user similarity based recommender leveraged similarities between customers, this recommender will utilize similarities between products. You already have all the tools in your toolbox, so follow each of the steps below to complete this lab."
   ],
   "metadata": {}
  },
  {
   "cell_type": "markdown",
   "source": [
    "### Step 1: Create a product distance matrix."
   ],
   "metadata": {}
  },
  {
   "cell_type": "code",
   "execution_count": null,
   "source": [],
   "outputs": [],
   "metadata": {}
  },
  {
   "cell_type": "markdown",
   "source": [
    "### Step 2: Get the products purchased for a specific customer of your choice."
   ],
   "metadata": {}
  },
  {
   "cell_type": "code",
   "execution_count": null,
   "source": [],
   "outputs": [],
   "metadata": {}
  },
  {
   "cell_type": "markdown",
   "source": [
    "### Step 3: For each product the customer purchased, get a list of the top 5 similar products. Package the lists into a nested list, flatten the list, and then filter out any products the customer has already purchased."
   ],
   "metadata": {}
  },
  {
   "cell_type": "code",
   "execution_count": null,
   "source": [],
   "outputs": [],
   "metadata": {}
  },
  {
   "cell_type": "markdown",
   "source": [
    "### Step 4: Count the number of times each similar product occurs in your filtered list. Sort and return a list containing the top 5 items."
   ],
   "metadata": {}
  },
  {
   "cell_type": "code",
   "execution_count": null,
   "source": [],
   "outputs": [],
   "metadata": {
    "scrolled": true
   }
  },
  {
   "cell_type": "markdown",
   "source": [
    "### Step 5: Now that we have generated product recommendations for a single user, put the pieces together and iterate over a list of all CustomerIDs.\n",
    "\n",
    "- Create an empty dictionary that will hold the recommendations for all customers.\n",
    "- Create a list of unique CustomerIDs to iterate over.\n",
    "- Iterate over the customer list performing steps 2 through 4 for each and appending the results of each iteration to the dictionary you created."
   ],
   "metadata": {}
  },
  {
   "cell_type": "code",
   "execution_count": null,
   "source": [],
   "outputs": [],
   "metadata": {}
  },
  {
   "cell_type": "markdown",
   "source": [
    "### Step 6: Store the results in a Pandas data frame. The data frame should a column for Customer ID and then a column for each of the 5 product recommendations for each customer."
   ],
   "metadata": {}
  },
  {
   "cell_type": "code",
   "execution_count": null,
   "source": [],
   "outputs": [],
   "metadata": {}
  },
  {
   "cell_type": "markdown",
   "source": [
    "## Recommending Items to a New Customer\n",
    "\n",
    "Suppose we get a new customer and on their first visit, they purchase the following items and quantities."
   ],
   "metadata": {}
  },
  {
   "cell_type": "code",
   "execution_count": null,
   "source": [
    "new_customer = {'Cookies - Assorted':3,\r\n",
    "                'Flavouring - Orange':3,\r\n",
    "                'Fenngreek Seed':1,\r\n",
    "                'Wine - White Cab Sauv.on':1,\r\n",
    "                'Bandage - Flexible Neon':3,\r\n",
    "                'Oil - Shortening - All - Purpose':2,\r\n",
    "                'Beef - Montreal Smoked Brisket':4,\r\n",
    "                'French Pastry - Mini Chocolate':4,\r\n",
    "                'Snapple Lemon Tea':5,\r\n",
    "                'Pepper - White, Ground':2,\r\n",
    "                'Spinach - Baby':5,\r\n",
    "                'Sole - Dover, Whole, Fresh':4}"
   ],
   "outputs": [],
   "metadata": {}
  },
  {
   "cell_type": "markdown",
   "source": [
    "### Step 7: Recommend 5 products to this new customer using a user similarity approach."
   ],
   "metadata": {}
  },
  {
   "cell_type": "code",
   "execution_count": null,
   "source": [],
   "outputs": [],
   "metadata": {}
  },
  {
   "cell_type": "markdown",
   "source": [
    "### Step 8: Recommend 5 products to this new customer using a item similarity approach."
   ],
   "metadata": {}
  },
  {
   "cell_type": "code",
   "execution_count": null,
   "source": [],
   "outputs": [],
   "metadata": {}
  }
 ],
 "metadata": {
  "kernelspec": {
   "display_name": "Python 3",
   "language": "python",
   "name": "python3"
  },
  "language_info": {
   "codemirror_mode": {
    "name": "ipython",
    "version": 3
   },
   "file_extension": ".py",
   "mimetype": "text/x-python",
   "name": "python",
   "nbconvert_exporter": "python",
   "pygments_lexer": "ipython3",
   "version": "3.7.2"
  }
 },
 "nbformat": 4,
 "nbformat_minor": 2
}